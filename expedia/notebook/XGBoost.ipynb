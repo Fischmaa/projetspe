{
 "cells": [
  {
   "cell_type": "markdown",
   "metadata": {},
   "source": [
    "# XGBoost Implémentation \n",
    "\n",
    "## Import librairies"
   ]
  },
  {
   "cell_type": "code",
   "execution_count": 1,
   "metadata": {
    "collapsed": true
   },
   "outputs": [],
   "source": [
    "import pandas as pd\n",
    "import numpy as np\n",
    "import xgboost as xgb\n",
    "from xgboost.sklearn import XGBClassifier\n",
    "from sklearn import cross_validation, metrics   #Additional scklearn functions\n",
    "from sklearn.grid_search import GridSearchCV   #Perforing grid search\n",
    "\n",
    "import matplotlib.pylab as plt\n",
    "%matplotlib inline \n",
    "from matplotlib.pylab import rcParams\n",
    "pd.options.mode.chained_assignment = None"
   ]
  },
  {
   "cell_type": "markdown",
   "metadata": {
    "collapsed": true
   },
   "source": [
    "## Reading data"
   ]
  },
  {
   "cell_type": "code",
   "execution_count": 147,
   "metadata": {
    "collapsed": false
   },
   "outputs": [
    {
     "name": "stdout",
     "output_type": "stream",
     "text": [
      "creation premier tableau...\n",
      "10.526315789473685\n",
      "13.157894736842104\n",
      "15.789473684210526\n",
      "18.42105263157895\n",
      "21.05263157894737\n"
     ]
    },
    {
     "ename": "KeyboardInterrupt",
     "evalue": "",
     "output_type": "error",
     "traceback": [
      "\u001b[1;31m---------------------------------------------------------------------------\u001b[0m",
      "\u001b[1;31mKeyboardInterrupt\u001b[0m                         Traceback (most recent call last)",
      "\u001b[1;32m<ipython-input-147-cc7a23ee6dac>\u001b[0m in \u001b[0;36m<module>\u001b[1;34m()\u001b[0m\n\u001b[0;32m      5\u001b[0m     \u001b[0mcount\u001b[0m \u001b[1;33m+=\u001b[0m \u001b[1;36m1\u001b[0m\u001b[1;33m\u001b[0m\u001b[0m\n\u001b[0;32m      6\u001b[0m     \u001b[0mprint\u001b[0m\u001b[1;33m(\u001b[0m\u001b[0mcount\u001b[0m \u001b[1;33m*\u001b[0m \u001b[1;36m100\u001b[0m \u001b[1;33m/\u001b[0m\u001b[1;36m38\u001b[0m \u001b[1;33m)\u001b[0m\u001b[1;33m\u001b[0m\u001b[0m\n\u001b[1;32m----> 7\u001b[1;33m     \u001b[0mtrain\u001b[0m \u001b[1;33m=\u001b[0m \u001b[0mtrain\u001b[0m\u001b[1;33m.\u001b[0m\u001b[0mappend\u001b[0m\u001b[1;33m(\u001b[0m\u001b[0mchunk\u001b[0m\u001b[1;33m,\u001b[0m\u001b[0mignore_index\u001b[0m\u001b[1;33m=\u001b[0m\u001b[1;32mTrue\u001b[0m\u001b[1;33m)\u001b[0m\u001b[1;33m\u001b[0m\u001b[0m\n\u001b[0m\u001b[0;32m      8\u001b[0m \u001b[0mprint\u001b[0m\u001b[1;33m(\u001b[0m\u001b[1;34m'fin premier tableau'\u001b[0m\u001b[1;33m)\u001b[0m\u001b[1;33m\u001b[0m\u001b[0m\n",
      "\u001b[1;32m/user/3/fischmaa/anaconda3/lib/python3.5/site-packages/pandas/core/frame.py\u001b[0m in \u001b[0;36mappend\u001b[1;34m(self, other, ignore_index, verify_integrity)\u001b[0m\n\u001b[0;32m   4336\u001b[0m             \u001b[0mto_concat\u001b[0m \u001b[1;33m=\u001b[0m \u001b[1;33m[\u001b[0m\u001b[0mself\u001b[0m\u001b[1;33m,\u001b[0m \u001b[0mother\u001b[0m\u001b[1;33m]\u001b[0m\u001b[1;33m\u001b[0m\u001b[0m\n\u001b[0;32m   4337\u001b[0m         return concat(to_concat, ignore_index=ignore_index,\n\u001b[1;32m-> 4338\u001b[1;33m                       verify_integrity=verify_integrity)\n\u001b[0m\u001b[0;32m   4339\u001b[0m \u001b[1;33m\u001b[0m\u001b[0m\n\u001b[0;32m   4340\u001b[0m     def join(self, other, on=None, how='left', lsuffix='', rsuffix='',\n",
      "\u001b[1;32m/user/3/fischmaa/anaconda3/lib/python3.5/site-packages/pandas/tools/merge.py\u001b[0m in \u001b[0;36mconcat\u001b[1;34m(objs, axis, join, join_axes, ignore_index, keys, levels, names, verify_integrity, copy)\u001b[0m\n\u001b[0;32m    844\u001b[0m                        \u001b[0mverify_integrity\u001b[0m\u001b[1;33m=\u001b[0m\u001b[0mverify_integrity\u001b[0m\u001b[1;33m,\u001b[0m\u001b[1;33m\u001b[0m\u001b[0m\n\u001b[0;32m    845\u001b[0m                        copy=copy)\n\u001b[1;32m--> 846\u001b[1;33m     \u001b[1;32mreturn\u001b[0m \u001b[0mop\u001b[0m\u001b[1;33m.\u001b[0m\u001b[0mget_result\u001b[0m\u001b[1;33m(\u001b[0m\u001b[1;33m)\u001b[0m\u001b[1;33m\u001b[0m\u001b[0m\n\u001b[0m\u001b[0;32m    847\u001b[0m \u001b[1;33m\u001b[0m\u001b[0m\n\u001b[0;32m    848\u001b[0m \u001b[1;33m\u001b[0m\u001b[0m\n",
      "\u001b[1;32m/user/3/fischmaa/anaconda3/lib/python3.5/site-packages/pandas/tools/merge.py\u001b[0m in \u001b[0;36mget_result\u001b[1;34m(self)\u001b[0m\n\u001b[0;32m   1036\u001b[0m                                                   \u001b[0mself\u001b[0m\u001b[1;33m.\u001b[0m\u001b[0mnew_axes\u001b[0m\u001b[1;33m,\u001b[0m\u001b[1;33m\u001b[0m\u001b[0m\n\u001b[0;32m   1037\u001b[0m                                                   \u001b[0mconcat_axis\u001b[0m\u001b[1;33m=\u001b[0m\u001b[0mself\u001b[0m\u001b[1;33m.\u001b[0m\u001b[0maxis\u001b[0m\u001b[1;33m,\u001b[0m\u001b[1;33m\u001b[0m\u001b[0m\n\u001b[1;32m-> 1038\u001b[1;33m                                                   copy=self.copy)\n\u001b[0m\u001b[0;32m   1039\u001b[0m             \u001b[1;32mif\u001b[0m \u001b[1;32mnot\u001b[0m \u001b[0mself\u001b[0m\u001b[1;33m.\u001b[0m\u001b[0mcopy\u001b[0m\u001b[1;33m:\u001b[0m\u001b[1;33m\u001b[0m\u001b[0m\n\u001b[0;32m   1040\u001b[0m                 \u001b[0mnew_data\u001b[0m\u001b[1;33m.\u001b[0m\u001b[0m_consolidate_inplace\u001b[0m\u001b[1;33m(\u001b[0m\u001b[1;33m)\u001b[0m\u001b[1;33m\u001b[0m\u001b[0m\n",
      "\u001b[1;32m/user/3/fischmaa/anaconda3/lib/python3.5/site-packages/pandas/core/internals.py\u001b[0m in \u001b[0;36mconcatenate_block_managers\u001b[1;34m(mgrs_indexers, axes, concat_axis, copy)\u001b[0m\n\u001b[0;32m   4543\u001b[0m                                                 copy=copy),\n\u001b[0;32m   4544\u001b[0m                          placement=placement)\n\u001b[1;32m-> 4545\u001b[1;33m               for placement, join_units in concat_plan]\n\u001b[0m\u001b[0;32m   4546\u001b[0m \u001b[1;33m\u001b[0m\u001b[0m\n\u001b[0;32m   4547\u001b[0m     \u001b[1;32mreturn\u001b[0m \u001b[0mBlockManager\u001b[0m\u001b[1;33m(\u001b[0m\u001b[0mblocks\u001b[0m\u001b[1;33m,\u001b[0m \u001b[0maxes\u001b[0m\u001b[1;33m)\u001b[0m\u001b[1;33m\u001b[0m\u001b[0m\n",
      "\u001b[1;32m/user/3/fischmaa/anaconda3/lib/python3.5/site-packages/pandas/core/internals.py\u001b[0m in \u001b[0;36m<listcomp>\u001b[1;34m(.0)\u001b[0m\n\u001b[0;32m   4543\u001b[0m                                                 copy=copy),\n\u001b[0;32m   4544\u001b[0m                          placement=placement)\n\u001b[1;32m-> 4545\u001b[1;33m               for placement, join_units in concat_plan]\n\u001b[0m\u001b[0;32m   4546\u001b[0m \u001b[1;33m\u001b[0m\u001b[0m\n\u001b[0;32m   4547\u001b[0m     \u001b[1;32mreturn\u001b[0m \u001b[0mBlockManager\u001b[0m\u001b[1;33m(\u001b[0m\u001b[0mblocks\u001b[0m\u001b[1;33m,\u001b[0m \u001b[0maxes\u001b[0m\u001b[1;33m)\u001b[0m\u001b[1;33m\u001b[0m\u001b[0m\n",
      "\u001b[1;32m/user/3/fischmaa/anaconda3/lib/python3.5/site-packages/pandas/core/internals.py\u001b[0m in \u001b[0;36mconcatenate_join_units\u001b[1;34m(join_units, concat_axis, copy)\u001b[0m\n\u001b[0;32m   4640\u001b[0m     to_concat = [ju.get_reindexed_values(empty_dtype=empty_dtype,\n\u001b[0;32m   4641\u001b[0m                                          upcasted_na=upcasted_na)\n\u001b[1;32m-> 4642\u001b[1;33m                  for ju in join_units]\n\u001b[0m\u001b[0;32m   4643\u001b[0m \u001b[1;33m\u001b[0m\u001b[0m\n\u001b[0;32m   4644\u001b[0m     \u001b[1;32mif\u001b[0m \u001b[0mlen\u001b[0m\u001b[1;33m(\u001b[0m\u001b[0mto_concat\u001b[0m\u001b[1;33m)\u001b[0m \u001b[1;33m==\u001b[0m \u001b[1;36m1\u001b[0m\u001b[1;33m:\u001b[0m\u001b[1;33m\u001b[0m\u001b[0m\n",
      "\u001b[1;32m/user/3/fischmaa/anaconda3/lib/python3.5/site-packages/pandas/core/internals.py\u001b[0m in \u001b[0;36m<listcomp>\u001b[1;34m(.0)\u001b[0m\n\u001b[0;32m   4640\u001b[0m     to_concat = [ju.get_reindexed_values(empty_dtype=empty_dtype,\n\u001b[0;32m   4641\u001b[0m                                          upcasted_na=upcasted_na)\n\u001b[1;32m-> 4642\u001b[1;33m                  for ju in join_units]\n\u001b[0m\u001b[0;32m   4643\u001b[0m \u001b[1;33m\u001b[0m\u001b[0m\n\u001b[0;32m   4644\u001b[0m     \u001b[1;32mif\u001b[0m \u001b[0mlen\u001b[0m\u001b[1;33m(\u001b[0m\u001b[0mto_concat\u001b[0m\u001b[1;33m)\u001b[0m \u001b[1;33m==\u001b[0m \u001b[1;36m1\u001b[0m\u001b[1;33m:\u001b[0m\u001b[1;33m\u001b[0m\u001b[0m\n",
      "\u001b[1;32m/user/3/fischmaa/anaconda3/lib/python3.5/site-packages/pandas/core/internals.py\u001b[0m in \u001b[0;36mget_reindexed_values\u001b[1;34m(self, empty_dtype, upcasted_na)\u001b[0m\n\u001b[0;32m   4940\u001b[0m             \u001b[1;32mfor\u001b[0m \u001b[0max\u001b[0m\u001b[1;33m,\u001b[0m \u001b[0mindexer\u001b[0m \u001b[1;32min\u001b[0m \u001b[0mself\u001b[0m\u001b[1;33m.\u001b[0m\u001b[0mindexers\u001b[0m\u001b[1;33m.\u001b[0m\u001b[0mitems\u001b[0m\u001b[1;33m(\u001b[0m\u001b[1;33m)\u001b[0m\u001b[1;33m:\u001b[0m\u001b[1;33m\u001b[0m\u001b[0m\n\u001b[0;32m   4941\u001b[0m                 values = algos.take_nd(values, indexer, axis=ax,\n\u001b[1;32m-> 4942\u001b[1;33m                                        fill_value=fill_value)\n\u001b[0m\u001b[0;32m   4943\u001b[0m \u001b[1;33m\u001b[0m\u001b[0m\n\u001b[0;32m   4944\u001b[0m         \u001b[1;32mreturn\u001b[0m \u001b[0mvalues\u001b[0m\u001b[1;33m\u001b[0m\u001b[0m\n",
      "\u001b[1;32m/user/3/fischmaa/anaconda3/lib/python3.5/site-packages/pandas/core/algorithms.py\u001b[0m in \u001b[0;36mtake_nd\u001b[1;34m(arr, indexer, axis, out, fill_value, mask_info, allow_fill)\u001b[0m\n\u001b[0;32m    933\u001b[0m                                  mask_info=mask_info)\n\u001b[0;32m    934\u001b[0m     \u001b[0mindexer\u001b[0m \u001b[1;33m=\u001b[0m \u001b[0mcom\u001b[0m\u001b[1;33m.\u001b[0m\u001b[0m_ensure_int64\u001b[0m\u001b[1;33m(\u001b[0m\u001b[0mindexer\u001b[0m\u001b[1;33m)\u001b[0m\u001b[1;33m\u001b[0m\u001b[0m\n\u001b[1;32m--> 935\u001b[1;33m     \u001b[0mfunc\u001b[0m\u001b[1;33m(\u001b[0m\u001b[0marr\u001b[0m\u001b[1;33m,\u001b[0m \u001b[0mindexer\u001b[0m\u001b[1;33m,\u001b[0m \u001b[0mout\u001b[0m\u001b[1;33m,\u001b[0m \u001b[0mfill_value\u001b[0m\u001b[1;33m)\u001b[0m\u001b[1;33m\u001b[0m\u001b[0m\n\u001b[0m\u001b[0;32m    936\u001b[0m \u001b[1;33m\u001b[0m\u001b[0m\n\u001b[0;32m    937\u001b[0m     \u001b[1;32mif\u001b[0m \u001b[0mflip_order\u001b[0m\u001b[1;33m:\u001b[0m\u001b[1;33m\u001b[0m\u001b[0m\n",
      "\u001b[1;31mKeyboardInterrupt\u001b[0m: "
     ]
    }
   ],
   "source": [
    "tab_train = pd.read_csv('../train.csv',iterator = True, chunksize = 1000000)\n",
    "train = tab_train.get_chunk()\n",
    "print('creation premier tableau...')\n",
    "for chunk in tab_train :\n",
    "    count += 1\n",
    "    print(count * 100 /38 )\n",
    "    train = train.append(chunk,ignore_index=True)\n",
    "print('fin premier tableau')\n"
   ]
  },
  {
   "cell_type": "markdown",
   "metadata": {},
   "source": [
    "## Change predictors\n"
   ]
  },
  {
   "cell_type": "code",
   "execution_count": null,
   "metadata": {
    "collapsed": false,
    "scrolled": true
   },
   "outputs": [],
   "source": [
    "from datetime import date\n",
    "from datetime import datetime"
   ]
  },
  {
   "cell_type": "code",
   "execution_count": null,
   "metadata": {
    "collapsed": true
   },
   "outputs": [],
   "source": [
    "#return time duration in days\n",
    "def duration(ci,co):\n",
    "    arrival = datetime.strptime(ci,'%Y-%m-%d')\n",
    "    departure = datetime.strptime(co,'%Y-%m-%d')\n",
    "    time = departure - arrival\n",
    "    return time.days "
   ]
  },
  {
   "cell_type": "code",
   "execution_count": null,
   "metadata": {
    "collapsed": false
   },
   "outputs": [],
   "source": [
    "#create trip_duration predictor\n",
    "train['trip_duration']=0\n",
    "\n",
    "for i in range(len(train)) :\n",
    "    train['trip_duration'][i]=duration(train['srch_ci'][i],train['srch_co'][i])\n"
   ]
  },
  {
   "cell_type": "code",
   "execution_count": null,
   "metadata": {
    "collapsed": false
   },
   "outputs": [],
   "source": [
    "train['trip_duration_type']=0\n",
    "for i in range(len(train)) :\n",
    "    if(train['trip_duration'][i]==1):\n",
    "        train['trip_duration_type'][i]=1\n",
    "    elif(train['trip_duration'][i]==2):\n",
    "         train['trip_duration_type'][i]=2\n",
    "    elif(train['trip_duration'][i]>=3 and train['trip_duration'][i]<=6):\n",
    "         train['trip_duration_type'][i]=3\n",
    "    elif(train['trip_duration'][i]>=7):\n",
    "        train['trip_duration_type'][i]=4\n",
    "        \n"
   ]
  },
  {
   "cell_type": "code",
   "execution_count": 23,
   "metadata": {
    "collapsed": false
   },
   "outputs": [],
   "source": [
    "train['orig_destination_distance_type']=0\n",
    "\n",
    "for i in range(len(train)) :\n",
    "    if(train['orig_destination_distance'][i]>=103 and train['orig_destination_distance'][i]<=229):\n",
    "         train['orig_destination_distance_type'][i]=1\n",
    "    elif(train['orig_destination_distance'][i]>=230 and train['orig_destination_distance'][i]<=428):\n",
    "         train['orig_destination_distance_type'][i]=2\n",
    "    elif(train['orig_destination_distance'][i]>=429 and train['orig_destination_distance'][i]<=822):\n",
    "         train['orig_destination_distance_type'][i]=3\n",
    "    elif(train['orig_destination_distance'][i]>=823 and train['orig_destination_distance'][i]<=1177):\n",
    "         train['orig_destination_distance_type'][i]=4\n",
    "    elif(train['orig_destination_distance'][i]>=1178 and train['orig_destination_distance'][i]<=1641):\n",
    "         train['orig_destination_distance_type'][i]=5\n",
    "    elif(train['orig_destination_distance'][i]>=1642 and train['orig_destination_distance'][i]<=2253):\n",
    "         train['orig_destination_distance_type'][i]=6\n",
    "    elif(train['orig_destination_distance'][i]>=2254 and train['orig_destination_distance'][i]<=3609):\n",
    "         train['orig_destination_distance_type'][i]=7\n",
    "    elif(train['orig_destination_distance'][i]>=3610 and train['orig_destination_distance'][i]<=5439):\n",
    "         train['orig_destination_distance_type'][i]=8\n",
    "    elif(train['orig_destination_distance'][i]>=5440):\n",
    "         train['orig_destination_distance_type'][i]=9\n",
    "\n",
    "\n",
    "   \n"
   ]
  },
  {
   "cell_type": "code",
   "execution_count": 24,
   "metadata": {
    "collapsed": false
   },
   "outputs": [],
   "source": [
    "train['date']=0\n",
    "\n",
    "for i in range(len(train)) :\n",
    "    train['date'][i]=datetime.strptime(train['date_time'][i],'%Y-%m-%d %H:%M:%S')\n",
    "    \n",
    "train['dayOfWeek']=0\n",
    "\n",
    "for i in range(len(train)):\n",
    "    train['dayOfWeek'][i]=train['date'][i].isoweekday()\n",
    "\n",
    "    train['year']=0\n",
    "\n",
    "for i in range(len(train)):\n",
    "    train['year'][i]=train['date'][i].year\n",
    "    \n",
    "train['month']=0\n",
    "\n",
    "for i in range(len(train)):\n",
    "    train['month'][i]=train['date'][i].month\n",
    "    \n",
    "train['day']=0\n",
    "\n",
    "for i in range(len(train)):\n",
    "    train['day'][i]=train['date'][i].day"
   ]
  },
  {
   "cell_type": "code",
   "execution_count": 25,
   "metadata": {
    "collapsed": true
   },
   "outputs": [],
   "source": [
    "#check in\n",
    "train['date_ci']=0\n",
    "\n",
    "for i in range(len(train)) :\n",
    "    train['date_ci'][i]=datetime.strptime(train['srch_ci'][i],'%Y-%m-%d')\n",
    "    \n",
    "train['dayOfWeek_ci']=0\n",
    "\n",
    "for i in range(len(train)):\n",
    "    train['dayOfWeek_ci'][i]=train['date_ci'][i].isoweekday()\n",
    "\n",
    "    train['year_ci']=0\n",
    "\n",
    "for i in range(len(train)):\n",
    "    train['year_ci'][i]=train['date_ci'][i].year\n",
    "    \n",
    "train['month_ci']=0\n",
    "\n",
    "for i in range(len(train)):\n",
    "    train['month_ci'][i]=train['date_ci'][i].month\n",
    "    \n",
    "train['day_ci']=0\n",
    "\n",
    "for i in range(len(train)):\n",
    "    train['day_ci'][i]=train['date_ci'][i].day\n",
    "#check out \n",
    "train['date_co']=0\n",
    "\n",
    "for i in range(len(train)) :\n",
    "    train['date_co'][i]=datetime.strptime(train['srch_co'][i],'%Y-%m-%d')\n",
    "    \n",
    "train['dayOfWeek_co']=0\n",
    "\n",
    "for i in range(len(train)):\n",
    "    train['dayOfWeek_co'][i]=train['date_co'][i].isoweekday()\n",
    "\n",
    "    train['year_co']=0\n",
    "\n",
    "for i in range(len(train)):\n",
    "    train['year_co'][i]=train['date_co'][i].year\n",
    "    \n",
    "train['month_co']=0\n",
    "\n",
    "for i in range(len(train)):\n",
    "    train['month_co'][i]=train['date_co'][i].month\n",
    "    \n",
    "train['day_co']=0\n",
    "\n",
    "for i in range(len(train)):\n",
    "    train['day_co'][i]=train['date_co'][i].day"
   ]
  },
  {
   "cell_type": "code",
   "execution_count": 26,
   "metadata": {
    "collapsed": true
   },
   "outputs": [],
   "source": [
    "train['season']=0\n",
    "\n",
    "for i in range(len(train)):\n",
    "\n",
    "    if(train['month'][i]>=4 and train['month'][i]<=6):\n",
    "        train['season'][i]=1\n",
    "    elif(train['month'][i]>=7 and train['month'][i]<=9):\n",
    "        train['season'][i]=2\n",
    "    elif(train['month'][i]>=10 and train['month'][i]<=12):\n",
    "        train['season'][i]=3"
   ]
  },
  {
   "cell_type": "code",
   "execution_count": 27,
   "metadata": {
    "collapsed": true
   },
   "outputs": [],
   "source": [
    "#return time duration in days\n",
    "def anticipation(date,co):\n",
    "    arrival = date.date()\n",
    "    departure = datetime.strptime(co,'%Y-%m-%d')\n",
    "    departure = departure.date()\n",
    "    time = departure - arrival\n",
    "    return time.days "
   ]
  },
  {
   "cell_type": "code",
   "execution_count": 28,
   "metadata": {
    "collapsed": false
   },
   "outputs": [],
   "source": [
    "train['trip_anticipation']=0\n",
    "\n",
    "\n",
    "for i in range(len(train)) :\n",
    "    train['trip_anticipation'][i]=anticipation(train['date'][i],train['srch_ci'][i])\n"
   ]
  },
  {
   "cell_type": "code",
   "execution_count": 29,
   "metadata": {
    "collapsed": true
   },
   "outputs": [],
   "source": [
    "train['trip_anticipation_type']=0\n",
    "for i in range(len(train)) :\n",
    "\n",
    "    if(train['trip_anticipation'][i]>=2 and train['trip_anticipation'][i]<7):\n",
    "         train['trip_anticipation_type'][i]=1\n",
    "    elif(train['trip_anticipation'][i]>=7 and train['trip_anticipation'][i]<13):\n",
    "         train['trip_anticipation_type'][i]=2\n",
    "    elif(train['trip_anticipation'][i]>=13 and train['trip_anticipation'][i]<20):\n",
    "         train['trip_anticipation_type'][i]=3\n",
    "    elif(train['trip_anticipation'][i]>=20 and train['trip_anticipation'][i]<31):\n",
    "         train['trip_anticipation_type'][i]=4\n",
    "    elif(train['trip_anticipation'][i]>=31 and train['trip_anticipation'][i]<43):\n",
    "         train['trip_anticipation_type'][i]=5\n",
    "    elif(train['trip_anticipation'][i]>=43 and train['trip_anticipation'][i]<62):\n",
    "         train['trip_anticipation_type'][i]=6\n",
    "    elif(train['trip_anticipation'][i]>=62 and train['trip_anticipation'][i]<=89):\n",
    "         train['trip_anticipation_type'][i]=7\n",
    "    elif(train['trip_anticipation'][i]>=89 and train['trip_anticipation'][i]<141):\n",
    "         train['trip_anticipation_type'][i]=8\n",
    "    elif(train['trip_anticipation'][i]>=141):\n",
    "         train['trip_anticipation_type'][i]=9"
   ]
  },
  {
   "cell_type": "markdown",
   "metadata": {},
   "source": [
    "## Define target and columns to drop"
   ]
  },
  {
   "cell_type": "code",
   "execution_count": 158,
   "metadata": {
    "collapsed": false
   },
   "outputs": [],
   "source": [
    "train.fillna(-999.0,inplace=True)\n",
    "\n",
    "target = 'hotel_cluster'\n",
    "IDcol = ['date_time','srch_ci','srch_co','date','date_ci','date_co']"
   ]
  },
  {
   "cell_type": "markdown",
   "metadata": {
    "collapsed": false,
    "scrolled": true
   },
   "source": [
    "## Create XGBoost model and perform cross-validation"
   ]
  },
  {
   "cell_type": "code",
   "execution_count": 145,
   "metadata": {
    "collapsed": false
   },
   "outputs": [],
   "source": [
    "def modelfit(alg, dtrain, predictors,useTrainCV=True, cv_folds=5,early_stopping_rounds=50,missing=-999.0):\n",
    "    \n",
    "    if useTrainCV:\n",
    "        xgb_param = alg.get_xgb_params()\n",
    "        xgtrain = xgb.DMatrix(dtrain[predictors].values, label=dtrain[target].values,missing=missing)\n",
    "        cvresult = xgb.cv(xgb_param, xgtrain, num_boost_round=alg.get_params()['n_estimators'], nfold=cv_folds)\n",
    "        alg.set_params(n_estimators=cvresult.shape[0])\n",
    "    \n",
    "    #Fit the algorithm on the data\n",
    "    alg.fit(dtrain[predictors], dtrain['hotel_cluster'],eval_metric='merror')\n",
    "        \n",
    "    #Predict training set:\n",
    "    dtrain_predictions = alg.predict(dtrain[predictors])\n",
    "    dtrain_predprob = alg.predict_proba(dtrain[predictors])\n",
    "        \n",
    "    #Print model report:\n",
    "    print (\"\\nModel Report\")\n",
    "    print (\"Accuracy : %.4g\" % metrics.accuracy_score(dtrain['hotel_cluster'].values, dtrain_predictions))\n",
    "    #print (\"AUC Score (Train): %f\" % metrics.roc_auc_score(dtrain['hotel_cluster'], dtrain_predprob))\n",
    "                    \n",
    "    feat_imp = pd.Series(alg.booster().get_fscore()).sort_values(ascending=False)\n",
    "    feat_imp.plot(kind='bar', title='Feature Importances')\n",
    "    plt.ylabel('Feature Importance Score')\n",
    "    plt.savefig('../XGBoost/Features/FeaturesImportanceScore.png')\n",
    "    \n",
    "    return alg"
   ]
  },
  {
   "cell_type": "code",
   "execution_count": 146,
   "metadata": {
    "collapsed": false,
    "scrolled": true
   },
   "outputs": [
    {
     "ename": "NameError",
     "evalue": "name 'train' is not defined",
     "output_type": "error",
     "traceback": [
      "\u001b[1;31m---------------------------------------------------------------------------\u001b[0m",
      "\u001b[1;31mNameError\u001b[0m                                 Traceback (most recent call last)",
      "\u001b[1;32m<ipython-input-146-ad96f3b966d1>\u001b[0m in \u001b[0;36m<module>\u001b[1;34m()\u001b[0m\n\u001b[0;32m      1\u001b[0m \u001b[1;31m#Choose all predictors except target & IDcols\u001b[0m\u001b[1;33m\u001b[0m\u001b[1;33m\u001b[0m\u001b[0m\n\u001b[1;32m----> 2\u001b[1;33m \u001b[0mpredictors\u001b[0m \u001b[1;33m=\u001b[0m \u001b[1;33m[\u001b[0m\u001b[0mx\u001b[0m \u001b[1;32mfor\u001b[0m \u001b[0mx\u001b[0m \u001b[1;32min\u001b[0m \u001b[0mtrain\u001b[0m\u001b[1;33m.\u001b[0m\u001b[0mcolumns\u001b[0m \u001b[1;32mif\u001b[0m \u001b[1;33m(\u001b[0m\u001b[0mx\u001b[0m \u001b[1;32mnot\u001b[0m \u001b[1;32min\u001b[0m \u001b[0mtarget\u001b[0m \u001b[1;32mand\u001b[0m \u001b[0mx\u001b[0m \u001b[1;32mnot\u001b[0m \u001b[1;32min\u001b[0m \u001b[0mIDcol\u001b[0m\u001b[1;33m)\u001b[0m\u001b[1;33m]\u001b[0m\u001b[1;33m\u001b[0m\u001b[0m\n\u001b[0m\u001b[0;32m      3\u001b[0m \u001b[1;33m\u001b[0m\u001b[0m\n\u001b[0;32m      4\u001b[0m xgb1 = XGBClassifier(\n\u001b[0;32m      5\u001b[0m  \u001b[0mlearning_rate\u001b[0m \u001b[1;33m=\u001b[0m\u001b[1;36m0.1\u001b[0m\u001b[1;33m,\u001b[0m\u001b[1;33m\u001b[0m\u001b[0m\n",
      "\u001b[1;31mNameError\u001b[0m: name 'train' is not defined"
     ]
    }
   ],
   "source": [
    "#Choose all predictors except target & IDcols\n",
    "predictors = [x for x in train.columns if (x not in target and x not in IDcol)]\n",
    "\n",
    "xgb1 = XGBClassifier(\n",
    " learning_rate =0.1,\n",
    " n_estimators=1000,\n",
    " max_depth=5,\n",
    " min_child_weight=1,\n",
    " gamma=0,\n",
    " subsample=0.8,\n",
    " colsample_bytree=0.8,\n",
    " objective= \"multi:softprob\",\n",
    " #nthread=4,\n",
    " scale_pos_weight=1,\n",
    " seed=27\n",
    ")\n",
    "\n",
    "model = modelfit(xgb1, train, predictors,useTrainCV=False)"
   ]
  },
  {
   "cell_type": "markdown",
   "metadata": {},
   "source": [
    "## Delete train and read test"
   ]
  },
  {
   "cell_type": "code",
   "execution_count": null,
   "metadata": {
    "collapsed": true
   },
   "outputs": [],
   "source": [
    "#Delete data frame\n",
    "cols = train.columns\n",
    "del train\n"
   ]
  },
  {
   "cell_type": "code",
   "execution_count": 131,
   "metadata": {
    "collapsed": false
   },
   "outputs": [
    {
     "name": "stdout",
     "output_type": "stream",
     "text": [
      "read test ...\n",
      "5.2631578947368425\n",
      "7.894736842105263\n",
      "done reading test ... \n"
     ]
    }
   ],
   "source": [
    "#read test\n",
    "tab_test = pd.read_csv('../test.csv',iterator = True, chunksize = 1000000)\n",
    "test = tab_test.get_chunk()\n",
    "print('read test ...')\n",
    "for chunk in tab_test :\n",
    "    count += 1\n",
    "    print(count * 100 /38 )\n",
    "    test = test.append(chunk,ignore_index=True)\n",
    "print('done reading test ... ')\n",
    "test.insert(19,\"is_booking\",1)\n",
    "test.insert(20,\"cnt\",1)\n",
    "test.fillna(-999.0,inplace=True)\n"
   ]
  },
  {
   "cell_type": "markdown",
   "metadata": {},
   "source": [
    "## Change predictors"
   ]
  },
  {
   "cell_type": "code",
   "execution_count": 132,
   "metadata": {
    "collapsed": true
   },
   "outputs": [],
   "source": [
    "#create trip_duration predictor\n",
    "test['trip_duration']=0\n",
    "\n",
    "for i in range(len(test)) :\n",
    "    test['trip_duration'][i]=duration(test['srch_ci'][i],test['srch_co'][i])"
   ]
  },
  {
   "cell_type": "code",
   "execution_count": 133,
   "metadata": {
    "collapsed": false
   },
   "outputs": [],
   "source": [
    "test['trip_duration_type']=0\n",
    "\n",
    "for i in range(len(test)) :\n",
    "    if(test['trip_duration'][i]==1):\n",
    "        test['trip_duration_type'][i]=1\n",
    "    elif(test['trip_duration'][i]==2):\n",
    "         test['trip_duration_type'][i]=2\n",
    "    elif(test['trip_duration'][i]>=3 and test['trip_duration'][i]<=6):\n",
    "         test['trip_duration_type'][i]=3\n",
    "    elif(test['trip_duration'][i]>=7):\n",
    "        test['trip_duration_type'][i]=4\n"
   ]
  },
  {
   "cell_type": "code",
   "execution_count": 134,
   "metadata": {
    "collapsed": false
   },
   "outputs": [],
   "source": [
    "\n",
    "test['orig_destination_distance_type']=0\n",
    "\n",
    "for i in range(len(test)) :\n",
    "\n",
    "    if(test['orig_destination_distance'][i]>=75 and test['orig_destination_distance'][i]<=171):\n",
    "         test['orig_destination_distance_type'][i]=1\n",
    "    elif(test['orig_destination_distance'][i]>=172 and test['orig_destination_distance'][i]<=288):\n",
    "         test['orig_destination_distance_type'][i]=2\n",
    "    elif(test['orig_destination_distance'][i]>=289 and test['orig_destination_distance'][i]<=460):\n",
    "         test['orig_destination_distance_type'][i]=3\n",
    "    elif(test['orig_destination_distance'][i]>=461 and test['orig_destination_distance'][i]<=826):\n",
    "         test['orig_destination_distance_type'][i]=4\n",
    "    elif(test['orig_destination_distance'][i]>=827 and test['orig_destination_distance'][i]<=1216):\n",
    "         test['orig_destination_distance_type'][i]=5\n",
    "    elif(test['orig_destination_distance'][i]>=1217 and test['orig_destination_distance'][i]<=1847):\n",
    "         test['orig_destination_distance_type'][i]=6\n",
    "    elif(test['orig_destination_distance'][i]>=1848 and test['orig_destination_distance'][i]<=2574):\n",
    "         test['orig_destination_distance_type'][i]=7\n",
    "    elif(test['orig_destination_distance'][i]>=2575 and test['orig_destination_distance'][i]<=5115):\n",
    "         test['orig_destination_distance_type'][i]=8\n",
    "    elif(test['orig_destination_distance'][i]>=5116):\n",
    "         test['orig_destination_distance_type'][i]=9\n"
   ]
  },
  {
   "cell_type": "code",
   "execution_count": 135,
   "metadata": {
    "collapsed": true
   },
   "outputs": [],
   "source": [
    "\n",
    "test['date']=0\n",
    "\n",
    "for i in range(len(test)) :\n",
    "    test['date'][i]=datetime.strptime(test['date_time'][i],'%Y-%m-%d %H:%M:%S')\n",
    "    \n",
    "test['dayOfWeek']=0\n",
    "\n",
    "for i in range(len(test)):\n",
    "    test['dayOfWeek'][i]=test['date'][i].isoweekday()\n",
    "    \n",
    "test['year']=0\n",
    "\n",
    "for i in range(len(test)):\n",
    "    test['year'][i]=test['date'][i].year\n",
    "    \n",
    "test['month']=0\n",
    "\n",
    "for i in range(len(test)):\n",
    "    test['month'][i]=test['date'][i].month\n",
    "    \n",
    "test['day']=0\n",
    "\n",
    "for i in range(len(test)):\n",
    "    test['day'][i]=test['date'][i].day\n"
   ]
  },
  {
   "cell_type": "code",
   "execution_count": 136,
   "metadata": {
    "collapsed": true
   },
   "outputs": [],
   "source": [
    "#check in\n",
    "test['date_ci']=0\n",
    "\n",
    "for i in range(len(test)) :\n",
    "    test['date_ci'][i]=datetime.strptime(test['srch_ci'][i],'%Y-%m-%d')\n",
    "    \n",
    "test['dayOfWeek_ci']=0\n",
    "\n",
    "for i in range(len(test)):\n",
    "    test['dayOfWeek_ci'][i]=test['date_ci'][i].isoweekday()\n",
    "\n",
    "    test['year_ci']=0\n",
    "\n",
    "for i in range(len(test)):\n",
    "    test['year_ci'][i]=test['date_ci'][i].year\n",
    "    \n",
    "test['month_ci']=0\n",
    "\n",
    "for i in range(len(test)):\n",
    "    test['month_ci'][i]=test['date_ci'][i].month\n",
    "    \n",
    "test['day_ci']=0\n",
    "\n",
    "for i in range(len(test)):\n",
    "    test['day_ci'][i]=test['date_ci'][i].day\n",
    "#check out \n",
    "test['date_co']=0\n",
    "\n",
    "for i in range(len(test)) :\n",
    "    test['date_co'][i]=datetime.strptime(test['srch_co'][i],'%Y-%m-%d')\n",
    "    \n",
    "test['dayOfWeek_co']=0\n",
    "\n",
    "for i in range(len(test)):\n",
    "    test['dayOfWeek_co'][i]=test['date_co'][i].isoweekday()\n",
    "\n",
    "    test['year_co']=0\n",
    "\n",
    "for i in range(len(test)):\n",
    "    test['year_co'][i]=test['date_co'][i].year\n",
    "    \n",
    "test['month_co']=0\n",
    "\n",
    "for i in range(len(test)):\n",
    "    test['month_co'][i]=test['date_co'][i].month\n",
    "    \n",
    "test['day_co']=0\n",
    "\n",
    "for i in range(len(test)):\n",
    "    test['day_co'][i]=test['date_co'][i].day"
   ]
  },
  {
   "cell_type": "code",
   "execution_count": 137,
   "metadata": {
    "collapsed": true
   },
   "outputs": [],
   "source": [
    "test['season']=0\n",
    "\n",
    "for i in range(len(test)):\n",
    "    \n",
    "    if(test['month'][i]>=4 and test['month'][i]<=6):\n",
    "        test['season'][i]=1\n",
    "    elif(test['month'][i]>=7 and test['month'][i]<=9):\n",
    "        test['season'][i]=2\n",
    "    elif(test['month'][i]>=10 and test['month'][i]<=12):\n",
    "        test['season'][i]=3\n",
    " \n"
   ]
  },
  {
   "cell_type": "code",
   "execution_count": 138,
   "metadata": {
    "collapsed": true
   },
   "outputs": [],
   "source": [
    "test['trip_anticipation']=0\n",
    "\n",
    "for i in range(len(test)) :\n",
    "    test['trip_anticipation'][i]=anticipation(test['date'][i],test['srch_ci'][i])"
   ]
  },
  {
   "cell_type": "code",
   "execution_count": 139,
   "metadata": {
    "collapsed": true
   },
   "outputs": [],
   "source": [
    "test['trip_anticipation_type']=0\n",
    "for i in range(len(test)) :\n",
    "\n",
    "    if(test['trip_anticipation'][i]>=1 and test['trip_anticipation'][i]<3):\n",
    "         test['trip_anticipation_type'][i]=1\n",
    "    elif(test['trip_anticipation'][i]>=3 and test['trip_anticipation'][i]<5):\n",
    "         test['trip_anticipation_type'][i]=2\n",
    "    elif(test['trip_anticipation'][i]>=5 and test['trip_anticipation'][i]<9):\n",
    "         test['trip_anticipation_type'][i]=3\n",
    "    elif(test['trip_anticipation'][i]>=9 and test['trip_anticipation'][i]<15):\n",
    "         test['trip_anticipation_type'][i]=4\n",
    "    elif(test['trip_anticipation'][i]>=15 and test['trip_anticipation'][i]<22):\n",
    "         test['trip_anticipation_type'][i]=5\n",
    "    elif(test['trip_anticipation'][i]>=22 and test['trip_anticipation'][i]<34):\n",
    "         test['trip_anticipation_type'][i]=6\n",
    "    elif(test['trip_anticipation'][i]>=34 and test['trip_anticipation'][i]<53):\n",
    "         test['trip_anticipation_type'][i]=7\n",
    "    elif(test['trip_anticipation'][i]>=53 and test['trip_anticipation'][i]<93):\n",
    "         test['trip_anticipation_type'][i]=8\n",
    "    elif(test['trip_anticipation'][i]>=93):\n",
    "         test['trip_anticipation_type'][i]=9\n",
    "            \n"
   ]
  },
  {
   "cell_type": "markdown",
   "metadata": {},
   "source": [
    "## Define target and columns to drop"
   ]
  },
  {
   "cell_type": "code",
   "execution_count": 141,
   "metadata": {
    "collapsed": true
   },
   "outputs": [],
   "source": [
    "target = 'hotel_cluster'\n",
    "IDcol = ['id','date_time','srch_ci','srch_co','date','date_ci','date_co']"
   ]
  },
  {
   "cell_type": "code",
   "execution_count": 142,
   "metadata": {
    "collapsed": false,
    "scrolled": false
   },
   "outputs": [
    {
     "name": "stderr",
     "output_type": "stream",
     "text": [
      "/user/3/fischmaa/anaconda3/lib/python3.5/site-packages/xgboost/core.py:840: VisibleDeprecationWarning: using a non-integer number instead of an integer will result in an error in the future\n",
      "  preds = preds.reshape(nrow, preds.size / nrow)\n"
     ]
    }
   ],
   "source": [
    "predictors=[x for x in test.columns if (x not in target and x not in IDcol)]\n",
    "\n",
    "predict=model.predict_proba(test[predictors])\n",
    "predict = np.argsort(predict[::-1][:,:5])"
   ]
  },
  {
   "cell_type": "code",
   "execution_count": 143,
   "metadata": {
    "collapsed": false,
    "scrolled": false
   },
   "outputs": [],
   "source": [
    "def concatStr(X):\n",
    "    return str(X[0])+' '+str(X[1])+' '+str(X[2])+' '+str(X[3])+' '+str(X[4])"
   ]
  },
  {
   "cell_type": "code",
   "execution_count": 144,
   "metadata": {
    "collapsed": false
   },
   "outputs": [
    {
     "data": {
      "text/html": [
       "<div>\n",
       "<table border=\"1\" class=\"dataframe\">\n",
       "  <thead>\n",
       "    <tr style=\"text-align: right;\">\n",
       "      <th></th>\n",
       "      <th>hotel_cluster</th>\n",
       "    </tr>\n",
       "  </thead>\n",
       "  <tbody>\n",
       "    <tr>\n",
       "      <th>0</th>\n",
       "      <td>4 2 3 1 0</td>\n",
       "    </tr>\n",
       "    <tr>\n",
       "      <th>1</th>\n",
       "      <td>2 1 3 0 4</td>\n",
       "    </tr>\n",
       "    <tr>\n",
       "      <th>2</th>\n",
       "      <td>2 3 0 4 1</td>\n",
       "    </tr>\n",
       "    <tr>\n",
       "      <th>3</th>\n",
       "      <td>2 4 1 0 3</td>\n",
       "    </tr>\n",
       "    <tr>\n",
       "      <th>4</th>\n",
       "      <td>4 2 0 3 1</td>\n",
       "    </tr>\n",
       "  </tbody>\n",
       "</table>\n",
       "</div>"
      ],
      "text/plain": [
       "  hotel_cluster\n",
       "0     4 2 3 1 0\n",
       "1     2 1 3 0 4\n",
       "2     2 3 0 4 1\n",
       "3     2 4 1 0 3\n",
       "4     4 2 0 3 1"
      ]
     },
     "execution_count": 144,
     "metadata": {},
     "output_type": "execute_result"
    }
   ],
   "source": [
    "submission = test[['id']].drop(['id'],1)\n",
    "submission['hotel_cluster']='blank'\n",
    "for i in range(len(submission)):\n",
    "    submission['hotel_cluster'][i]=concatStr(predict[i])\n",
    "submission.head()"
   ]
  },
  {
   "cell_type": "code",
   "execution_count": 378,
   "metadata": {
    "collapsed": false,
    "scrolled": true
   },
   "outputs": [],
   "source": [
    "#write submission \n",
    "submission.to_csv('../XGBoost/Submission/submission.csv',header=True, index_label='id')"
   ]
  }
 ],
 "metadata": {
  "kernelspec": {
   "display_name": "Python 3",
   "language": "python",
   "name": "python3"
  },
  "language_info": {
   "codemirror_mode": {
    "name": "ipython",
    "version": 3
   },
   "file_extension": ".py",
   "mimetype": "text/x-python",
   "name": "python",
   "nbconvert_exporter": "python",
   "pygments_lexer": "ipython3",
   "version": "3.5.1"
  }
 },
 "nbformat": 4,
 "nbformat_minor": 0
}
