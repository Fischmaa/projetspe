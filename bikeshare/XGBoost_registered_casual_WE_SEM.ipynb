{
 "cells": [
  {
   "cell_type": "code",
   "execution_count": 3,
   "metadata": {
    "collapsed": false
   },
   "outputs": [],
   "source": [
    "#!/usr/bin/python3.3\n",
    "# -*-coding:Utf-8 -*\n",
    "\n",
    "\n",
    "import pandas as pd \n",
    "import statsmodels.formula.api as smf\n",
    "import statsmodels.api as sm\n",
    "import matplotlib.pyplot as plt \n",
    "from datetime import datetime\n",
    "pd.options.mode.chained_assignment = None  # default='warn'\n",
    "import xgboost as xgb\n",
    "# reading data\n",
    "train = pd.read_csv(\"sources/train.csv\")\n",
    "test = pd.read_csv(\"sources/test.csv\")"
   ]
  },
  {
   "cell_type": "code",
   "execution_count": 4,
   "metadata": {
    "collapsed": true
   },
   "outputs": [],
   "source": [
    "#add a new column 'date' convert into datetime for both training and test set\n",
    "train['date']=0\n",
    "for i in range(len(train)) :\n",
    "\ttrain['date'][i]=datetime.strptime(train['datetime'][i],'%Y-%m-%d %H:%M:%S')\n",
    "\n",
    "train=train.set_index(\"datetime\")\n",
    "\n",
    "\n",
    "test['date']=0\n",
    "for i in range(len(test)) :\n",
    "\ttest['date'][i]=datetime.strptime(test['datetime'][i],'%Y-%m-%d %H:%M:%S')\n",
    "\n",
    "test=test.set_index(\"datetime\")"
   ]
  },
  {
   "cell_type": "code",
   "execution_count": 5,
   "metadata": {
    "collapsed": false
   },
   "outputs": [],
   "source": [
    "#create day of week column and hour column and a year colum for both training and test set\n",
    "train['day']=0\n",
    "train['hour']=0\n",
    "train['year']=0\n",
    "for i in range(len(train)) :\n",
    "    train['day'][i] = train['date'][i].weekday()\n",
    "    train['hour'][i] = train['date'][i].hour\n",
    "    train['year'][i]=train['date'][i].year\n",
    "\n",
    "test['day']=0\n",
    "test['hour']=0\n",
    "test['year']=0\n",
    "for i in range(len(test)) :\n",
    "    test['day'][i] = test['date'][i].weekday()\n",
    "    test['hour'][i] = test['date'][i].hour\n",
    "    test['year'][i]=test['date'][i].year\n"
   ]
  },
  {
   "cell_type": "code",
   "execution_count": 6,
   "metadata": {
    "collapsed": false
   },
   "outputs": [],
   "source": [
    "#create weekEnd variable \n",
    "train['weekEnd'] = 0 ;\n",
    "train.ix[train['day']>=5,'weekEnd']=1\n",
    "\n",
    "test['weekEnd'] = 0 ;\n",
    "test.ix[test['day']>=5,'weekEnd']=1\n"
   ]
  },
  {
   "cell_type": "code",
   "execution_count": 7,
   "metadata": {
    "collapsed": true
   },
   "outputs": [],
   "source": [
    "#create ahot () variable for both training and test set\n",
    "train['ahot'] = 4\n",
    "for i in range(len(train)) :\n",
    "\tcurrentTemp = train['atemp'][i]\n",
    "\tif (currentTemp>=24.24 and currentTemp<31.06 ):\n",
    "\t\ttrain['ahot'][i] = 3\n",
    "\telif (currentTemp>=16.6 and currentTemp<24.24):\n",
    "\t\ttrain['ahot'][i] = 2\n",
    "\telif ( currentTemp<16.6) :\n",
    "\t\ttrain['ahot'][i] = 1\n",
    "\n",
    "\n",
    "test['ahot'] = 4\n",
    "for i in range(len(test)) :\n",
    "\tcurrentTemp = test['atemp'][i]\n",
    "\tif (currentTemp>=24.24 and currentTemp<31.06 ):\n",
    "\t\ttest['ahot'][i] = 3\n",
    "\telif (currentTemp>=16.6 and currentTemp<24.24):\n",
    "\t\ttest['ahot'][i] = 2\n",
    "\telif (currentTemp<16.6) :\n",
    "\t\ttest['ahot'][i] = 1\n",
    "\n"
   ]
  },
  {
   "cell_type": "code",
   "execution_count": 8,
   "metadata": {
    "collapsed": true
   },
   "outputs": [],
   "source": [
    "#create ahot () variable for both training and test set\n",
    "train['hot'] = 4\n",
    "for i in range(len(train)) :\n",
    "\tcurrentTemp = train['temp'][i]\n",
    "\tif (currentTemp>=20.5 and currentTemp<26.24 ):\n",
    "\t\ttrain['hot'][i] = 3\n",
    "\telif (currentTemp>=13.94 and currentTemp<20.5):\n",
    "\t\ttrain['hot'][i] = 2\n",
    "\telif ( currentTemp<13.94) :\n",
    "\t\ttrain['hot'][i] = 1\n",
    "\n",
    "\n",
    "test['hot'] = 4\n",
    "for i in range(len(test)) :\n",
    "\tcurrentTemp = test['temp'][i]\n",
    "\tif (currentTemp>=20.5 and currentTemp<26.24 ):\n",
    "\t\ttest['hot'][i] = 3\n",
    "\telif (currentTemp>=13.94 and currentTemp<20.5):\n",
    "\t\ttest['hot'][i] = 2\n",
    "\telif (currentTemp<13.94) :\n",
    "\t\ttest['hot'][i] = 1\n",
    "\n"
   ]
  },
  {
   "cell_type": "code",
   "execution_count": 9,
   "metadata": {
    "collapsed": false
   },
   "outputs": [],
   "source": [
    "train = train.reset_index()\n",
    "train = train.drop(\"datetime\",1)\n",
    "train = train.drop(['date'],1)\n",
    "\n",
    "test = test.reset_index()\n",
    "result= test[['datetime']]\n",
    "\n",
    "test = test.drop(\"datetime\",1)\n",
    "test = test.drop('date',1)"
   ]
  },
  {
   "cell_type": "code",
   "execution_count": 10,
   "metadata": {
    "collapsed": false
   },
   "outputs": [],
   "source": [
    "train_registered=train.drop(\"casual\",1)\n",
    "train_registered=train_registered.drop(\"count\",1)\n",
    "train_registered_SEM = train_registered.drop(train_registered[train_registered.weekEnd == 1].index)\n",
    "train_registered_WE= train_registered.drop(train_registered[train_registered.weekEnd == 0].index)\n",
    "train_registered_SEM = train_registered_SEM.drop(\"weekEnd\",1)\n",
    "train_registered_WE = train_registered_WE.drop(\"weekEnd\",1)\n",
    "\n",
    "\n",
    "train_casual=train.drop(\"registered\",1)\n",
    "train_casual=train_casual.drop(\"count\",1)\n",
    "train_casual_SEM = train_casual.drop(train_casual[train_casual.weekEnd == 1].index)\n",
    "train_casual_WE = train_casual.drop(train_casual[train_casual.weekEnd == 0].index)\n",
    "train_casual_SEM = train_casual_SEM.drop(\"weekEnd\",1)\n",
    "train_casual_WE = train_casual_WE.drop(\"weekEnd\",1)\n",
    "\n",
    "\n",
    "test_WE = test.drop(test[test.weekEnd == 0].index)\n",
    "test_SEM = test.drop(test[test.weekEnd == 1].index)\n",
    "test_SEM = test_SEM.drop(\"weekEnd\",1)\n",
    "test_WE = test_WE.drop(\"weekEnd\",1)"
   ]
  },
  {
   "cell_type": "code",
   "execution_count": 20,
   "metadata": {
    "collapsed": false
   },
   "outputs": [
    {
     "data": {
      "text/plain": [
       "<matplotlib.axes._subplots.AxesSubplot at 0x7fc0cc0d6cf8>"
      ]
     },
     "execution_count": 20,
     "metadata": {},
     "output_type": "execute_result"
    }
   ],
   "source": [
    "X_train = train_registered_SEM.drop(\"registered\",1)\n",
    "Y_train = train_registered_SEM['registered']\n",
    "T_train_xgb = xgb.DMatrix(X_train, Y_train)\n",
    "params = {}\n",
    "params[\"objective\"] = \"reg:linear\"\n",
    "params[\"booster\"] = \"gbtree\"\n",
    "params[\"nthread\"] = 8\n",
    "params[\"tree_method\"] = \"exact\"\n",
    "params[\"eval_metric\"] = \"auc\"\n",
    "params[\"silent\"] = 1\n",
    "params[\"max_depth\"] = 8\n",
    "gbm_reg_SEM = xgb.train(dtrain=T_train_xgb, params = params)\n",
    "#xgb.plot_importance(gbm_reg_SEM)"
   ]
  },
  {
   "cell_type": "code",
   "execution_count": 21,
   "metadata": {
    "collapsed": true
   },
   "outputs": [],
   "source": [
    "X_train = train_registered_WE.drop(\"registered\",1)\n",
    "Y_train = train_registered_WE['registered']\n",
    "T_train_xgb = xgb.DMatrix(X_train, Y_train)\n",
    "params = {}\n",
    "params[\"objective\"] = \"reg:linear\"\n",
    "params[\"booster\"] = \"gbtree\"\n",
    "params[\"nthread\"] = 8\n",
    "params[\"tree_method\"] = \"exact\"\n",
    "params[\"eval_metric\"] = \"auc\"\n",
    "params[\"silent\"] = 1\n",
    "params[\"max_depth\"] = 9\n",
    "gbm_reg_WE = xgb.train(dtrain=T_train_xgb, params = params)\n",
    "#xgb.plot_importance(gbm_reg_WE)"
   ]
  },
  {
   "cell_type": "code",
   "execution_count": 22,
   "metadata": {
    "collapsed": false
   },
   "outputs": [],
   "source": [
    "X_train = train_casual_WE.drop(\"casual\",1)\n",
    "Y_train = train_casual_WE['casual']\n",
    "T_train_xgb = xgb.DMatrix(X_train, Y_train)\n",
    "params = {}\n",
    "params[\"objective\"] = \"reg:linear\"\n",
    "params[\"booster\"] = \"gbtree\"\n",
    "params[\"nthread\"] = 8\n",
    "params[\"tree_method\"] = \"exact\"\n",
    "params[\"eval_metric\"] = \"auc\"\n",
    "params[\"silent\"] = 1\n",
    "params[\"max_depth\"] = 10\n",
    "gbm_cas_WE = xgb.train(dtrain=T_train_xgb, params = params)\n",
    "#xgb.plot_importance(gbm_cas_WE)"
   ]
  },
  {
   "cell_type": "code",
   "execution_count": 23,
   "metadata": {
    "collapsed": true
   },
   "outputs": [],
   "source": [
    "X_train = train_casual_SEM.drop(\"casual\",1)\n",
    "Y_train = train_casual_SEM['casual']\n",
    "T_train_xgb = xgb.DMatrix(X_train, Y_train)\n",
    "params = {}\n",
    "params[\"objective\"] = \"reg:linear\"\n",
    "params[\"booster\"] = \"gbtree\"\n",
    "params[\"nthread\"] = 8\n",
    "params[\"tree_method\"] = \"exact\"\n",
    "params[\"eval_metric\"] = \"auc\"\n",
    "params[\"silent\"] = 1\n",
    "params[\"max_depth\"] = 10\n",
    "gbm_cas_SEM = xgb.train(dtrain=T_train_xgb, params = params)\n",
    "#xgb.plot_importance(gbm_cas_SEM)"
   ]
  },
  {
   "cell_type": "code",
   "execution_count": null,
   "metadata": {
    "collapsed": false
   },
   "outputs": [],
   "source": [
    "#test_WE.index\n",
    "plt.show()"
   ]
  },
  {
   "cell_type": "code",
   "execution_count": null,
   "metadata": {
    "collapsed": false,
    "scrolled": true
   },
   "outputs": [],
   "source": [
    "X_test = xgb.DMatrix(test_WE)\n",
    "Y_pred_WE = gbm_cas_WE.predict(X_test) + gbm_reg_WE.predict(X_test)\n",
    "print(Y_pred_WE)\n",
    "\n",
    "X_test = xgb.DMatrix(test_SEM)\n",
    "Y_pred_SEM = gbm_cas_SEM.predict(X_test) + gbm_reg_SEM.predict(X_test)\n",
    "print(Y_pred_SEM)"
   ]
  },
  {
   "cell_type": "code",
   "execution_count": null,
   "metadata": {
    "collapsed": false
   },
   "outputs": [],
   "source": [
    "df_WE = pd.DataFrame(Y_pred_WE)\n",
    "df_WE.columns=['count']\n",
    "df_WE['new_index']=test_WE.index\n",
    "df_WE=df_WE.set_index(\"new_index\")\n",
    "\n",
    "df_SEM = pd.DataFrame(Y_pred_SEM)\n",
    "df_SEM.columns=['count']\n",
    "df_SEM['new_index']=test_SEM.index\n",
    "df_SEM=df_SEM.set_index(\"new_index\")\n"
   ]
  },
  {
   "cell_type": "code",
   "execution_count": null,
   "metadata": {
    "collapsed": true
   },
   "outputs": [],
   "source": [
    "df = df_SEM.append(df_WE)"
   ]
  },
  {
   "cell_type": "code",
   "execution_count": null,
   "metadata": {
    "collapsed": true
   },
   "outputs": [],
   "source": [
    "result['count'] = df\n",
    "#result[result['count']<=0] = 0\n",
    "\n",
    "result_final = result.set_index('datetime')\n",
    "result_final[result_final['count']<=0]=0\n",
    "result_final"
   ]
  },
  {
   "cell_type": "code",
   "execution_count": null,
   "metadata": {
    "collapsed": false,
    "scrolled": true
   },
   "outputs": [],
   "source": [
    "result_final.to_csv('Résultats/XGBoost/submissionXGBoost.csv')"
   ]
  },
  {
   "cell_type": "code",
   "execution_count": null,
   "metadata": {
    "collapsed": false
   },
   "outputs": [],
   "source": [
    "#xgb.cv(params,T_train_xgb)"
   ]
  }
 ],
 "metadata": {
  "kernelspec": {
   "display_name": "Python 3",
   "language": "python",
   "name": "python3"
  },
  "language_info": {
   "codemirror_mode": {
    "name": "ipython",
    "version": 3
   },
   "file_extension": ".py",
   "mimetype": "text/x-python",
   "name": "python",
   "nbconvert_exporter": "python",
   "pygments_lexer": "ipython3",
   "version": "3.5.1"
  }
 },
 "nbformat": 4,
 "nbformat_minor": 0
}
