{
 "cells": [
  {
   "cell_type": "code",
   "execution_count": 1,
   "metadata": {
    "collapsed": false
   },
   "outputs": [],
   "source": [
    "#!/usr/bin/python3.3\n",
    "# -*-coding:Utf-8 -*\n",
    "\n",
    "\n",
    "import pandas as pd \n",
    "import statsmodels.formula.api as smf\n",
    "import statsmodels.api as sm\n",
    "import matplotlib.pyplot as plt \n",
    "from datetime import datetime\n",
    "pd.options.mode.chained_assignment = None  # default='warn'\n",
    "import xgboost as xgb\n",
    "# reading data\n",
    "train = pd.read_csv(\"sources/train.csv\")\n",
    "test = pd.read_csv(\"sources/test.csv\")"
   ]
  },
  {
   "cell_type": "code",
   "execution_count": 2,
   "metadata": {
    "collapsed": true
   },
   "outputs": [],
   "source": [
    "#add a new column 'date' convert into datetime for both training and test set\n",
    "train['date']=0\n",
    "for i in range(len(train)) :\n",
    "\ttrain['date'][i]=datetime.strptime(train['datetime'][i],'%Y-%m-%d %H:%M:%S')\n",
    "\n",
    "train=train.set_index(\"datetime\")\n",
    "\n",
    "\n",
    "test['date']=0\n",
    "for i in range(len(test)) :\n",
    "\ttest['date'][i]=datetime.strptime(test['datetime'][i],'%Y-%m-%d %H:%M:%S')\n",
    "\n",
    "test=test.set_index(\"datetime\")"
   ]
  },
  {
   "cell_type": "code",
   "execution_count": 3,
   "metadata": {
    "collapsed": false
   },
   "outputs": [],
   "source": [
    "#create day of week column and hour column and a year colum for both training and test set\n",
    "train['day']=0\n",
    "train['hour']=0\n",
    "train['year']=0\n",
    "for i in range(len(train)) :\n",
    "    train['day'][i] = train['date'][i].weekday()\n",
    "    train['hour'][i] = train['date'][i].hour\n",
    "    train['year'][i]=train['date'][i].year\n",
    "\n",
    "test['day']=0\n",
    "test['hour']=0\n",
    "test['year']=0\n",
    "for i in range(len(test)) :\n",
    "    test['day'][i] = test['date'][i].weekday()\n",
    "    test['hour'][i] = test['date'][i].hour\n",
    "    test['year'][i]=test['date'][i].year\n"
   ]
  },
  {
   "cell_type": "code",
   "execution_count": 4,
   "metadata": {
    "collapsed": false
   },
   "outputs": [],
   "source": [
    "#create weekEnd variable \n",
    "train['weekEnd'] = 0 ;\n",
    "train.ix[train['day']>=5,'weekEnd']=1\n",
    "\n",
    "test['weekEnd'] = 0 ;\n",
    "test.ix[test['day']>=5,'weekEnd']=1\n"
   ]
  },
  {
   "cell_type": "code",
   "execution_count": 5,
   "metadata": {
    "collapsed": true
   },
   "outputs": [],
   "source": [
    "#create ahot () variable for both training and test set\n",
    "train['ahot'] = 4\n",
    "for i in range(len(train)) :\n",
    "\tcurrentTemp = train['atemp'][i]\n",
    "\tif (currentTemp>=24.24 and currentTemp<31.06 ):\n",
    "\t\ttrain['ahot'][i] = 3\n",
    "\telif (currentTemp>=16.6 and currentTemp<24.24):\n",
    "\t\ttrain['ahot'][i] = 2\n",
    "\telif ( currentTemp<16.6) :\n",
    "\t\ttrain['ahot'][i] = 1\n",
    "\n",
    "\n",
    "test['ahot'] = 4\n",
    "for i in range(len(test)) :\n",
    "\tcurrentTemp = test['atemp'][i]\n",
    "\tif (currentTemp>=24.24 and currentTemp<31.06 ):\n",
    "\t\ttest['ahot'][i] = 3\n",
    "\telif (currentTemp>=16.6 and currentTemp<24.24):\n",
    "\t\ttest['ahot'][i] = 2\n",
    "\telif (currentTemp<16.6) :\n",
    "\t\ttest['ahot'][i] = 1\n",
    "\n"
   ]
  },
  {
   "cell_type": "code",
   "execution_count": 6,
   "metadata": {
    "collapsed": true
   },
   "outputs": [],
   "source": [
    "#create ahot () variable for both training and test set\n",
    "train['hot'] = 4\n",
    "for i in range(len(train)) :\n",
    "\tcurrentTemp = train['temp'][i]\n",
    "\tif (currentTemp>=20.5 and currentTemp<26.24 ):\n",
    "\t\ttrain['hot'][i] = 3\n",
    "\telif (currentTemp>=13.94 and currentTemp<20.5):\n",
    "\t\ttrain['hot'][i] = 2\n",
    "\telif ( currentTemp<13.94) :\n",
    "\t\ttrain['hot'][i] = 1\n",
    "\n",
    "\n",
    "test['hot'] = 4\n",
    "for i in range(len(test)) :\n",
    "\tcurrentTemp = test['temp'][i]\n",
    "\tif (currentTemp>=20.5 and currentTemp<26.24 ):\n",
    "\t\ttest['hot'][i] = 3\n",
    "\telif (currentTemp>=13.94 and currentTemp<20.5):\n",
    "\t\ttest['hot'][i] = 2\n",
    "\telif (currentTemp<13.94) :\n",
    "\t\ttest['hot'][i] = 1\n",
    "\n"
   ]
  },
  {
   "cell_type": "code",
   "execution_count": 7,
   "metadata": {
    "collapsed": false
   },
   "outputs": [],
   "source": [
    "train = train.reset_index()\n",
    "train = train.drop(\"datetime\",1)\n",
    "train = train.drop(['date'],1)\n",
    "\n",
    "test = test.reset_index()\n",
    "result= test[['datetime']]\n",
    "\n",
    "test = test.drop(\"datetime\",1)\n",
    "test = test.drop('date',1)"
   ]
  },
  {
   "cell_type": "code",
   "execution_count": 8,
   "metadata": {
    "collapsed": false
   },
   "outputs": [],
   "source": [
    "train_registered=train.drop(\"casual\",1)\n",
    "train_registered=train_registered.drop(\"count\",1)\n",
    "\n",
    "train_casual=train.drop(\"registered\",1)\n",
    "train_casual=train_casual.drop(\"count\",1)"
   ]
  },
  {
   "cell_type": "code",
   "execution_count": 9,
   "metadata": {
    "collapsed": false
   },
   "outputs": [
    {
     "data": {
      "text/plain": [
       "Index(['season', 'holiday', 'workingday', 'weather', 'temp', 'atemp',\n",
       "       'humidity', 'windspeed', 'registered', 'day', 'hour', 'year', 'weekEnd',\n",
       "       'ahot', 'hot'],\n",
       "      dtype='object')"
      ]
     },
     "execution_count": 9,
     "metadata": {},
     "output_type": "execute_result"
    }
   ],
   "source": [
    "train_registered.columns"
   ]
  },
  {
   "cell_type": "code",
   "execution_count": 10,
   "metadata": {
    "collapsed": false,
    "scrolled": false
   },
   "outputs": [
    {
     "name": "stdout",
     "output_type": "stream",
     "text": [
      "[  12.70296955    4.45095348    2.87567091 ...,  116.40880585  100.00267792\n",
      "   47.491642  ]\n"
     ]
    },
    {
     "data": {
      "text/plain": [
       "<matplotlib.axes._subplots.AxesSubplot at 0x7f2470b4c2e8>"
      ]
     },
     "execution_count": 10,
     "metadata": {},
     "output_type": "execute_result"
    }
   ],
   "source": [
    "X_train = train_registered.drop(\"registered\",1)\n",
    "Y_train = train_registered['registered']\n",
    "T_train_xgb = xgb.DMatrix(X_train, Y_train)\n",
    "params = {}\n",
    "params[\"objective\"] = \"count:poisson\"\n",
    "params[\"bst:eta\"] = 1\n",
    "#params[\"min_child_weight\"] = 5\n",
    "#params[\"subsample\"] = 0.8\n",
    "params[\"scale_pos_weight\"] = 1.0\n",
    "params[\"silent\"] = 1\n",
    "params[\"max_depth\"] = 9\n",
    "params[\"max_delta_step\"]=1\n",
    "gbm_reg = xgb.train(dtrain=T_train_xgb, params = params)\n",
    "X_test = xgb.DMatrix(test)\n",
    "Y_pred_reg = gbm_reg.predict(X_test)\n",
    "print(Y_pred_reg)\n",
    "xgb.plot_importance(gbm_reg)\n"
   ]
  },
  {
   "cell_type": "code",
   "execution_count": 11,
   "metadata": {
    "collapsed": true
   },
   "outputs": [],
   "source": [
    "plt.show()"
   ]
  },
  {
   "cell_type": "code",
   "execution_count": 12,
   "metadata": {
    "collapsed": false
   },
   "outputs": [
    {
     "name": "stdout",
     "output_type": "stream",
     "text": [
      "[ 2.10598421  0.65608001  0.59178776 ...,  3.77964616  2.38016868\n",
      "  1.68373263]\n"
     ]
    },
    {
     "data": {
      "text/plain": [
       "<matplotlib.axes._subplots.AxesSubplot at 0x7f24651abb38>"
      ]
     },
     "execution_count": 12,
     "metadata": {},
     "output_type": "execute_result"
    }
   ],
   "source": [
    "X_train = train_casual.drop(\"casual\",1)\n",
    "Y_train = train_casual['casual']\n",
    "T_train_xgb = xgb.DMatrix(X_train, Y_train)\n",
    "params = {}\n",
    "params[\"objective\"] = \"count:poisson\"\n",
    "params[\"bst:eta\"] = 1\n",
    "#params[\"min_child_weight\"] = 5\n",
    "#params[\"subsample\"] = 0.8\n",
    "params[\"scale_pos_weight\"] = 1.0\n",
    "params[\"silent\"] = 1\n",
    "params[\"max_depth\"] = 10\n",
    "params[\"max_delta_step\"]=1\n",
    "gbm_cas = xgb.train(dtrain=T_train_xgb, params = params)\n",
    "X_test = xgb.DMatrix(test)\n",
    "Y_pred_cas = gbm_cas.predict(X_test)\n",
    "print(Y_pred_cas)\n",
    "xgb.plot_importance(gbm_cas)\n"
   ]
  },
  {
   "cell_type": "code",
   "execution_count": 13,
   "metadata": {
    "collapsed": true
   },
   "outputs": [],
   "source": [
    "plt.show()"
   ]
  },
  {
   "cell_type": "code",
   "execution_count": 14,
   "metadata": {
    "collapsed": true
   },
   "outputs": [],
   "source": [
    "result['count'] = pd.DataFrame( Y_pred_cas + Y_pred_reg)\n",
    "#result[result['count']<=0] = 0\n",
    "\n",
    "result_final = result.set_index('datetime')\n",
    "result_final[result_final['count']<=0]=0\n"
   ]
  },
  {
   "cell_type": "code",
   "execution_count": 15,
   "metadata": {
    "collapsed": false,
    "scrolled": true
   },
   "outputs": [],
   "source": [
    "result_final.to_csv('Résultats/XGBoost/submissionXGBoost.csv')"
   ]
  }
 ],
 "metadata": {
  "kernelspec": {
   "display_name": "Python 3",
   "language": "python",
   "name": "python3"
  },
  "language_info": {
   "codemirror_mode": {
    "name": "ipython",
    "version": 3
   },
   "file_extension": ".py",
   "mimetype": "text/x-python",
   "name": "python",
   "nbconvert_exporter": "python",
   "pygments_lexer": "ipython3",
   "version": "3.5.1"
  }
 },
 "nbformat": 4,
 "nbformat_minor": 0
}
